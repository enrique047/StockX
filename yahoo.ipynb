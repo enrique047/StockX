{
 "cells": [
  {
   "cell_type": "code",
   "execution_count": 5,
   "metadata": {},
   "outputs": [
    {
     "name": "stdout",
     "output_type": "stream",
     "text": [
      "                                 Open        High     Low       Close  \\\n",
      "Date                                                                    \n",
      "2023-04-25 00:00:00+05:30  106.699997  107.199997  106.25  106.949997   \n",
      "\n",
      "                            Volume  Dividends  Stock Splits  \n",
      "Date                                                         \n",
      "2023-04-25 00:00:00+05:30  5782275        0.0           0.0  \n"
     ]
    }
   ],
   "source": [
    "import yfinance as yahooFinance\n",
    "\n",
    "\n",
    "GetFacebookInformation = yahooFinance.Ticker(\"TATASTEEL.NS\")\n",
    "\n",
    "# Valid options are 1d, 5d, 1mo, 3mo, 6mo, 1y,\n",
    "# 2y, 5y, 10y and ytd.\n",
    "print(GetFacebookInformation.history(period=\"1d\"))\n"
   ]
  }
 ],
 "metadata": {
  "kernelspec": {
   "display_name": "Python 3",
   "language": "python",
   "name": "python3"
  },
  "language_info": {
   "codemirror_mode": {
    "name": "ipython",
    "version": 3
   },
   "file_extension": ".py",
   "mimetype": "text/x-python",
   "name": "python",
   "nbconvert_exporter": "python",
   "pygments_lexer": "ipython3",
   "version": "3.10.6"
  },
  "orig_nbformat": 4
 },
 "nbformat": 4,
 "nbformat_minor": 2
}
